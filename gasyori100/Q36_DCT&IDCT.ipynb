{
 "cells": [
  {
   "cell_type": "markdown",
   "id": "d88b8a89",
   "metadata": {},
   "source": [
    "Q36 離散コサイン変換"
   ]
  },
  {
   "cell_type": "code",
   "execution_count": null,
   "id": "ed761d50",
   "metadata": {},
   "outputs": [],
   "source": [
    "import numpy as np\n",
    "import matplotlib.pyplot as plt \n",
    "import cv2\n",
    "\n",
    "imori = cv2.imread(\"imori.jpg\").astype(float)\n",
    "\n",
    "def show_gray(gray_img):\n",
    "    plt.imshow(gray_img)\n",
    "    plt.gray()\n",
    "    plt.show()\n",
    "    \n",
    "def gray(gray_image):\n",
    "    b = gray_image[:,:,0].copy()\n",
    "    g = gray_image[:,:,1].copy()\n",
    "    r = gray_image[:,:,2].copy()\n",
    "    \n",
    "    y = 0.2126*r + 0.7152*g + 0.0722*b\n",
    "    y = y.astype(int)\n",
    "    \n",
    "    return y"
   ]
  },
  {
   "cell_type": "code",
   "execution_count": null,
   "id": "7ac8ee70",
   "metadata": {},
   "outputs": [],
   "source": [
    "# ハイパーパラメータ\n",
    "T = 8\n",
    "K = 8\n",
    "\n",
    "def dct(image):\n",
    "    img = image.copy()\n",
    "    h,w = image.shape\n",
    "    "
   ]
  }
 ],
 "metadata": {
  "kernelspec": {
   "display_name": "Python 3 (ipykernel)",
   "language": "python",
   "name": "python3"
  },
  "language_info": {
   "codemirror_mode": {
    "name": "ipython",
    "version": 3
   },
   "file_extension": ".py",
   "mimetype": "text/x-python",
   "name": "python",
   "nbconvert_exporter": "python",
   "pygments_lexer": "ipython3",
   "version": "3.10.11"
  }
 },
 "nbformat": 4,
 "nbformat_minor": 5
}
